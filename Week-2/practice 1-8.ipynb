{
 "cells": [
  {
   "cell_type": "code",
   "execution_count": 5,
   "id": "1b96d140-3cf4-448c-b4bb-4631a6a7cd91",
   "metadata": {},
   "outputs": [
    {
     "name": "stdin",
     "output_type": "stream",
     "text": [
      "Enter your state of origin:  OSOGBO\n"
     ]
    },
    {
     "name": "stdout",
     "output_type": "stream",
     "text": [
      "Your state of origin is: OSOGBO\n",
      "The first character is: O\n",
      "The characters starting from the 3rd to 5th are: OGB\n",
      "The string starting from the 3rd character is: OGBO\n",
      "State of origin two times: OSOGBOOSOGBO\n"
     ]
    }
   ],
   "source": [
    "str_input = input(\"Enter your state of origin: \")\n",
    "\n",
    "print(\"Your state of origin is:\", str_input)\n",
    "print(\"The first character is:\", str_input[0])\n",
    "print(\"The characters starting from the 3rd to 5th are:\", str_input[2:5])\n",
    "print(\"The string starting from the 3rd character is:\", str_input[2:])\n",
    "print(\"State of origin two times:\", str_input * 2)\n"
   ]
  },
  {
   "cell_type": "code",
   "execution_count": 3,
   "id": "8c6ac842-0620-4de6-9c92-c8fb4e58415c",
   "metadata": {},
   "outputs": [
    {
     "name": "stdin",
     "output_type": "stream",
     "text": [
      "Enter mass in kilograms:  1000\n"
     ]
    },
    {
     "name": "stdout",
     "output_type": "stream",
     "text": [
      "The energy equivalent to 1000.0 kg of mass is 8.987551787368176e+19 joules.\n"
     ]
    }
   ],
   "source": [
    "# Input from user\n",
    "m = float(input(\"Enter mass in kilograms: \"))\n",
    "\n",
    "# Constant value for the speed of light in m/s\n",
    "c = 299792458\n",
    "\n",
    "# Calculating energy using Einstein's equation\n",
    "energy = m * c ** 2\n",
    "\n",
    "# Displaying the result\n",
    "print(f\"The energy equivalent to {m} kg of mass is {energy} joules.\")"
   ]
  },
  {
   "cell_type": "code",
   "execution_count": null,
   "id": "0a8cb314-3802-44c8-b003-64eadc4db4a2",
   "metadata": {},
   "outputs": [],
   "source": [
    "list = ['Anaconda', 786, 2.23, 'Jupyter', 70.2]\n",
    "shortlist = [321, 'Python']\n",
    "\n",
    "print(list)  # Prints complete list\n",
    "print(list[0])  # Prints first element of the list\n",
    "print(list[1:3])  # Prints elements starting from 2nd till 3rd\n",
    "print(list[2:])  # Prints elements starting from 3rd element\n",
    "print(shortlist * 2)  # Prints List two times\n",
    "print(list + shortlist)  # Prints concatenated lists"
   ]
  },
  {
   "cell_type": "code",
   "execution_count": null,
   "id": "bb4c9e15-d735-4d10-abcc-e79cc9b6412f",
   "metadata": {},
   "outputs": [],
   "source": [
    "tuple = (\"Ekiti\", 750, \"Oshogbo\", 250, \"Akure\", 500)\n",
    "s_tuple = (\"Abeokuta\", 300, \"Ogbomoso\")\n",
    "\n",
    "# Prints the complete tuple\n",
    "print(tuple)\n",
    "\n",
    "# Prints last element of the tuple\n",
    "print(tuple[-1])\n",
    "\n",
    "# Prints elements of the tuple starting from 2nd till 3rd\n",
    "print(tuple[2:4])\n",
    "\n",
    "# Prints elements of the tuple starting from 3rd element\n",
    "print(tuple[3:])\n",
    "\n",
    "# Prints the contents of the tuple twice\n",
    "print(s_tuple * 3)\n",
    "\n",
    "# Prints concatenated tuples\n",
    "print(tuple + s_tuple)"
   ]
  },
  {
   "cell_type": "code",
   "execution_count": null,
   "id": "ab3a7330-503b-46d1-a593-8515922c142b",
   "metadata": {},
   "outputs": [],
   "source": [
    "# Returns false as game_1 is not equal to game_2\n",
    "game_1 = 2\n",
    "game_2 = 4\n",
    "print(bool(game_1 == game_2))\n",
    "# Or\n",
    "print(game_1 == game_2)\n",
    "\n",
    "# Returns False as val is None\n",
    "val = None\n",
    "print(bool(val))\n",
    "\n",
    "# Returns false as num is an empty sequence\n",
    "num = ()\n",
    "print(bool(num))\n",
    "\n",
    "# Returns true as age is boolean\n",
    "age = True\n",
    "print(bool(age))"
   ]
  },
  {
   "cell_type": "code",
   "execution_count": null,
   "id": "2b7af10d-0064-4e1f-a514-26fa0abfd481",
   "metadata": {},
   "outputs": [],
   "source": [
    "# Convert to int\n",
    "\n",
    "grade = int(70)  # grade will be 70\n",
    "gpa = int(4.9)  # gpa will be 4\n",
    "cgpa = int(\"4\")  # cgpa will be 4\n",
    "\n",
    "print(f\"Grade = {grade}\")\n",
    "print(f\"GPA = {gpa}\")\n",
    "print(f\"CGPA = {cgpa}\")"
   ]
  },
  {
   "cell_type": "code",
   "execution_count": null,
   "id": "e07baa36-cb82-4eb7-869b-23ae3afe9077",
   "metadata": {},
   "outputs": [],
   "source": [
    "# Convert to float\n",
    "\n",
    "grade = float(97)\n",
    "gpa = float(5)\n",
    "cgpa = float(\"4.7\")\n",
    "\n",
    "print(f\"Grade = {grade}\")\n",
    "print(f\"GPA = {gpa}\")\n",
    "print(f\"CGPA = {cgpa}\")"
   ]
  }
 ],
 "metadata": {
  "kernelspec": {
   "display_name": "Python [conda env:base] *",
   "language": "python",
   "name": "conda-base-py"
  },
  "language_info": {
   "codemirror_mode": {
    "name": "ipython",
    "version": 3
   },
   "file_extension": ".py",
   "mimetype": "text/x-python",
   "name": "python",
   "nbconvert_exporter": "python",
   "pygments_lexer": "ipython3",
   "version": "3.12.7"
  }
 },
 "nbformat": 4,
 "nbformat_minor": 5
}
