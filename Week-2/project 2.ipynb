{
 "cells": [
  {
   "cell_type": "code",
   "execution_count": null,
   "id": "8020395a-93dc-417f-a744-8cb42f95884e",
   "metadata": {},
   "outputs": [],
   "source": [
    "Start\n",
    "\n",
    "Display options:\n",
    "\n",
    "1: Solve a quadratic equation\n",
    "\n",
    "2: Solve a cubic equation\n",
    "\n",
    "3: Solve a quartic equation\n",
    "\n",
    "Ask the user to choose an option\n",
    "\n",
    "If the user chooses 1:\n",
    "\n",
    "Input values of A, B, and C (coefficients of quadratic equation)\n",
    "\n",
    "Calculate the roots using the quadratic formula\n",
    "\n",
    "Display the roots\n",
    "\n",
    "If the user chooses 2:\n",
    "\n",
    "Input values of A, B, C, and D (coefficients of cubic equation)\n",
    "\n",
    "Use a numerical method to solve the cubic equation\n",
    "\n",
    "Display the roots\n",
    "\n",
    "If the user chooses 3:\n",
    "\n",
    "Input values of A, B, C, D, and E (coefficients of quartic equation)\n",
    "\n",
    "Use a numerical method to solve the quartic equation\n",
    "\n",
    "Display the roots\n",
    "\n",
    "End\n",
    "\n"
   ]
  },
  {
   "cell_type": "code",
   "execution_count": 8,
   "id": "dc851f96-4b60-457f-a10d-b7a889d35d51",
   "metadata": {},
   "outputs": [
    {
     "name": "stdout",
     "output_type": "stream",
     "text": [
      "Choose an equation to solve:\n",
      "1. Quadratic Equation (Ax² + Bx + C = 0)\n",
      "2. Cubic Equation (Ax³ + Bx² + Cx + D = 0)\n",
      "3. Quartic Equation (Ax⁴ + Bx³ + Cx² + Dx + E = 0)\n"
     ]
    },
    {
     "name": "stdin",
     "output_type": "stream",
     "text": [
      "Enter your choice (1/2/3):  1\n"
     ]
    },
    {
     "name": "stdout",
     "output_type": "stream",
     "text": [
      "Solving Quadratic Equation (Ax² + Bx + C = 0)\n"
     ]
    },
    {
     "name": "stdin",
     "output_type": "stream",
     "text": [
      "Enter A:  4\n",
      "Enter B:  2\n",
      "Enter C:  3\n"
     ]
    },
    {
     "name": "stdout",
     "output_type": "stream",
     "text": [
      "No real roots (complex roots exist).\n"
     ]
    }
   ],
   "source": [
    "import sympy as sp\n",
    "\n",
    "def solve_quadratic():\n",
    "    print(\"Solving Quadratic Equation (Ax² + Bx + C = 0)\")\n",
    "    A = float(input(\"Enter A: \"))\n",
    "    B = float(input(\"Enter B: \"))\n",
    "    C = float(input(\"Enter C: \"))\n",
    "\n",
    "    # Quadratic formula: x = (-B ± sqrt(B² - 4AC)) / 2A\n",
    "    discriminant = B**2 - 4*A*C\n",
    "\n",
    "    if discriminant > 0:\n",
    "        root1 = (-B + sp.sqrt(discriminant)) / (2*A)\n",
    "        root2 = (-B - sp.sqrt(discriminant)) / (2*A)\n",
    "        print(\"Roots are:\", root1, \"and\", root2)\n",
    "    elif discriminant == 0:\n",
    "        root = -B / (2*A)\n",
    "        print(\"Single root:\", root)\n",
    "    else:\n",
    "        print(\"No real roots (complex roots exist).\")\n",
    "\n",
    "def solve_cubic():\n",
    "    print(\"Solving Cubic Equation (Ax³ + Bx² + Cx + D = 0)\")\n",
    "    A = float(input(\"Enter A: \"))\n",
    "    B = float(input(\"Enter B: \"))\n",
    "    C = float(input(\"Enter C: \"))\n",
    "    D = float(input(\"Enter D: \"))\n",
    "\n",
    "    x = sp.Symbol('x')\n",
    "    equation = A*x**3 + B*x**2 + C*x + D\n",
    "    roots = sp.solve(equation, x)\n",
    "    print(\"Roots are:\", roots)\n",
    "\n",
    "def solve_quartic():\n",
    "    print(\"Solving Quartic Equation (Ax⁴ + Bx³ + Cx² + Dx + E = 0)\")\n",
    "    A = float(input(\"Enter A: \"))\n",
    "    B = float(input(\"Enter B: \"))\n",
    "    C = float(input(\"Enter C: \"))\n",
    "    D = float(input(\"Enter D: \"))\n",
    "    E = float(input(\"Enter E: \"))\n",
    "\n",
    "    x = sp.Symbol('x')\n",
    "    equation = A*x**4 + B*x**3 + C*x**2 + D*x + E\n",
    "    roots = sp.solve(equation, x)\n",
    "    print(\"Roots are:\", roots)\n",
    "\n",
    "# Menu for user selection\n",
    "print(\"Choose an equation to solve:\")\n",
    "print(\"1. Quadratic Equation (Ax² + Bx + C = 0)\")\n",
    "print(\"2. Cubic Equation (Ax³ + Bx² + Cx + D = 0)\")\n",
    "print(\"3. Quartic Equation (Ax⁴ + Bx³ + Cx² + Dx + E = 0)\")\n",
    "\n",
    "choice = int(input(\"Enter your choice (1/2/3): \"))\n",
    "\n",
    "if choice == 1:\n",
    "    solve_quadratic()\n",
    "elif choice == 2:\n",
    "    solve_cubic()\n",
    "elif choice == 3:\n",
    "    solve_quartic()\n",
    "else:\n",
    "    print(\"Invalid choice. Please select 1, 2, or 3.\")\n"
   ]
  },
  {
   "cell_type": "code",
   "execution_count": null,
   "id": "6c04c7a2-9863-4f40-a9e7-57b99a2b0370",
   "metadata": {},
   "outputs": [],
   "source": []
  }
 ],
 "metadata": {
  "kernelspec": {
   "display_name": "Python [conda env:base] *",
   "language": "python",
   "name": "conda-base-py"
  },
  "language_info": {
   "codemirror_mode": {
    "name": "ipython",
    "version": 3
   },
   "file_extension": ".py",
   "mimetype": "text/x-python",
   "name": "python",
   "nbconvert_exporter": "python",
   "pygments_lexer": "ipython3",
   "version": "3.12.7"
  }
 },
 "nbformat": 4,
 "nbformat_minor": 5
}
