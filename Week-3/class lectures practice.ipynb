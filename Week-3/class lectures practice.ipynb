{
 "cells": [
  {
   "cell_type": "code",
   "execution_count": null,
   "id": "69d40d26-d4a5-46cb-920a-5b57d23048b9",
   "metadata": {},
   "outputs": [],
   "source": [
    "# Print the given sequence of numbers using for loop\n",
    "count = [10, 20, 30, 40, 50]\n",
    "for num in count:\n",
    "    print(num)"
   ]
  },
  {
   "cell_type": "code",
   "execution_count": null,
   "id": "18ca81cf-0f8b-4d08-a3eb-f445831dbec4",
   "metadata": {},
   "outputs": [],
   "source": [
    "# Print multiples of 10 for numbers in a given range\n",
    "for num in range(5):\n",
    "    if num > 0:\n",
    "        print(num * 10)"
   ]
  },
  {
   "cell_type": "code",
   "execution_count": null,
   "id": "1f9214a5-c054-466a-aec0-15ee5697ebfd",
   "metadata": {},
   "outputs": [],
   "source": [
    "# Print first 5 natural numbers using while loop\n",
    "count = 1\n",
    "while count <= 5:\n",
    "    print(count)\n",
    "    count += 1"
   ]
  },
  {
   "cell_type": "code",
   "execution_count": null,
   "id": "eeb4f639-a08b-4ff4-9ddd-24ed129ac331",
   "metadata": {},
   "outputs": [],
   "source": [
    "entry = 0\n",
    "sum1 = 0\n",
    "print(\"Enter numbers to find their sum, negative number ends the loop:\")\n",
    "while True:\n",
    "    #int() typecasts string to integer\n",
    "    entry = int(input())\n",
    "    if (entry < 0):\n",
    "        break\n",
    "    sum1 += entry\n",
    "print(\"Sum =\", sum1)"
   ]
  },
  {
   "cell_type": "code",
   "execution_count": null,
   "id": "027f0152-8d02-4685-9d65-0733e667a5a2",
   "metadata": {},
   "outputs": [],
   "source": []
  }
 ],
 "metadata": {
  "kernelspec": {
   "display_name": "Python [conda env:base] *",
   "language": "python",
   "name": "conda-base-py"
  },
  "language_info": {
   "codemirror_mode": {
    "name": "ipython",
    "version": 3
   },
   "file_extension": ".py",
   "mimetype": "text/x-python",
   "name": "python",
   "nbconvert_exporter": "python",
   "pygments_lexer": "ipython3",
   "version": "3.12.7"
  }
 },
 "nbformat": 4,
 "nbformat_minor": 5
}
