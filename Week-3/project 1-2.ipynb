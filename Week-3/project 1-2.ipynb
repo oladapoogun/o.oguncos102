{
 "cells": [
  {
   "cell_type": "code",
   "execution_count": null,
   "id": "e2d02565-d64f-410d-ba45-5db3f096c36e",
   "metadata": {},
   "outputs": [],
   "source": [
    "from tabulate import tabulate\n",
    "\n",
    "girls = [\n",
    "    [\"Evelyn\", 17, 5.5, 80], [\"Jessica\", 16, 6.0, 85], [\"Somto\", 17, 5.4, 70],\n",
    "    [\"Edith\", 18, 5.9, 60], [\"Liza\", 16, 5.6, 76], [\"Madonna\", 18, 5.5, 66],\n",
    "    [\"Waje\", 17, 6.0, 87], [\"Tola\", 20, 5.7, 95], [\"Aisha\", 19, 5.5, 50],\n",
    "    [\"Latifa\", 17, 5.5, 49]\n",
    "]\n",
    "\n",
    "boys = [\n",
    "    [\"Chinedu\", 19, 5.7, 74], [\"Liam\", 16, 5.9, 87], [\"Wale\", 18, 5.8, 75],\n",
    "    [\"Gbenga\", 17, 6.1, 68], [\"Abiola\", 20, 5.5, 66], [\"Kola\", 19, 5.4, 78],\n",
    "    [\"Kunle\", 16, 5.8, 87], [\"George\", 17, 5.7, 98], [\"Thomas\", 18, 5.5, 54],\n",
    "    [\"Wesley\", 19, 5.7, 60]\n",
    "]\n",
    "\n",
    "headers = [\"Name\", \"Age\", \"Height\", \"Score\"]\n",
    "\n",
    "print(\"Girls Data:\")\n",
    "print(tabulate(girls, headers=headers, tablefmt=\"grid\"))\n",
    "\n",
    "print(\"\\nBoys Data:\")\n",
    "print(tabulate(boys, headers=headers, tablefmt=\"grid\"))\n"
   ]
  },
  {
   "cell_type": "code",
   "execution_count": 1,
   "id": "af18ecc9-88c2-4030-8af8-1eb98908e632",
   "metadata": {},
   "outputs": [
    {
     "name": "stdin",
     "output_type": "stream",
     "text": [
      "Enter years of experience:  12\n",
      "Enter age:  50\n"
     ]
    },
    {
     "name": "stdout",
     "output_type": "stream",
     "text": [
      "Annual Tax Revenue (ATR): N1,500,000\n"
     ]
    }
   ],
   "source": [
    "def calculate_atr(experience, age):\n",
    "    if experience > 25 and age >= 55:\n",
    "        return 5600000\n",
    "    elif experience > 20 and age >= 45:\n",
    "        return 4480000\n",
    "    elif experience > 10 and age >= 35:\n",
    "        return 1500000\n",
    "    else:\n",
    "        return 550000\n",
    "\n",
    "# Taking input from the user\n",
    "experience = int(input(\"Enter years of experience: \"))\n",
    "age = int(input(\"Enter age: \"))\n",
    "\n",
    "# Calculating ATR\n",
    "atr = calculate_atr(experience, age)\n",
    "\n",
    "# Displaying the result\n",
    "print(f\"Annual Tax Revenue (ATR): N{atr:,}\")\n"
   ]
  },
  {
   "cell_type": "code",
   "execution_count": null,
   "id": "1a18e659-e999-42ee-952f-97220fd66e66",
   "metadata": {},
   "outputs": [],
   "source": []
  }
 ],
 "metadata": {
  "kernelspec": {
   "display_name": "Python [conda env:base] *",
   "language": "python",
   "name": "conda-base-py"
  },
  "language_info": {
   "codemirror_mode": {
    "name": "ipython",
    "version": 3
   },
   "file_extension": ".py",
   "mimetype": "text/x-python",
   "name": "python",
   "nbconvert_exporter": "python",
   "pygments_lexer": "ipython3",
   "version": "3.12.7"
  }
 },
 "nbformat": 4,
 "nbformat_minor": 5
}
