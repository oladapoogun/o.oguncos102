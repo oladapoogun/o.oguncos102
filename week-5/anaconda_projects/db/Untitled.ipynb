{
 "cells": [
  {
   "cell_type": "code",
   "execution_count": 53,
   "id": "05de8d23-d4c4-4638-a0f5-b39b3e1ecb1d",
   "metadata": {},
   "outputs": [],
   "source": [
    "import tkinter as tk\n",
    "from tkinter import messagebox as msgbox\n",
    "\n",
    "# Handling button click event\n",
    "def button_click():\n",
    "    # print(\"Button clicked\")\n",
    "    # Show an information message box\n",
    "    msgbox.showinfo(\"Infor\", \"Welcome to COS 102 GUI App!\\n\")\n",
    "\n",
    "    # Ask for user confirmation\n",
    "    result = msgbox.askyesno(\"Confirmation\", \"Do you want to continue?\")\n",
    "    if result:\n",
    "        msgbox.showinfo(\"Result\", \"You chose to continue.\")\n",
    "    else:\n",
    "        msgbox.showinfo(\"Result\", \"You chose not to continue.\")\n",
    "\n",
    "# Create a main window\n",
    "root = tk.Tk()\n",
    "root.title(\"Home page\")\n",
    "root.geometry(\"300x100\")\n",
    "\n",
    "# Add a label widget\n",
    "label = tk.Label(root, text=\"Hello Friend \\n\")\n",
    "label.pack()\n",
    "\n",
    "# Add a button widget \n",
    "button = tk.Button(root, text=\"Click Me!\", command=button_click)\n",
    "button.pack()\n",
    "\n",
    "# Styling the button widget\n",
    "button.config(fg=\"red\", bg=\"yellow\")\n",
    "\n",
    "# Start the event loop\n",
    "root.mainloop()\n"
   ]
  },
  {
   "cell_type": "code",
   "execution_count": 51,
   "id": "c923af61-d8e5-43e8-ba7b-d939eef5f98b",
   "metadata": {},
   "outputs": [
    {
     "ename": "NameError",
     "evalue": "name 'window' is not defined",
     "output_type": "error",
     "traceback": [
      "\u001b[1;31m---------------------------------------------------------------------------\u001b[0m",
      "\u001b[1;31mNameError\u001b[0m                                 Traceback (most recent call last)",
      "Cell \u001b[1;32mIn[51], line 10\u001b[0m\n\u001b[0;32m      7\u001b[0m     window\u001b[38;5;241m.\u001b[39mtiitle(\u001b[38;5;124m\"\u001b[39m\u001b[38;5;124mAdmin box\u001b[39m\u001b[38;5;124m\"\u001b[39m)\n\u001b[0;32m      8\u001b[0m     window\u001b[38;5;241m.\u001b[39mgeometry(\u001b[38;5;124m\"\u001b[39m\u001b[38;5;124m500x200\u001b[39m\u001b[38;5;124m\"\u001b[39m)\n\u001b[1;32m---> 10\u001b[0m label_1\u001b[38;5;241m=\u001b[39mtk\u001b[38;5;241m.\u001b[39mLabel(window,text\u001b[38;5;241m=\u001b[39m\u001b[38;5;124mf\u001b[39m\u001b[38;5;124m\"\u001b[39m\u001b[38;5;124mWelcome \u001b[39m\u001b[38;5;132;01m{\u001b[39;00musername\u001b[38;5;132;01m}\u001b[39;00m\u001b[38;5;130;01m\\n\u001b[39;00m\u001b[38;5;124m\"\u001b[39m)\n\u001b[0;32m     11\u001b[0m label_1\u001b[38;5;241m.\u001b[39mpack()\n\u001b[0;32m     12\u001b[0m label_2\u001b[38;5;241m=\u001b[39mtk\u001b[38;5;241m.\u001b[39mLabel(window,text\u001b[38;5;241m=\u001b[39m\u001b[38;5;124m\"\u001b[39m\u001b[38;5;124mThis is python gui with TKinter\u001b[39m\u001b[38;5;124m\"\u001b[39m)\n",
      "\u001b[1;31mNameError\u001b[0m: name 'window' is not defined"
     ]
    }
   ],
   "source": [
    "import tkinter as tk\n",
    "from tkinter import messagebox\n",
    "from PIL import Image, ImageTk\n",
    "\n",
    "def welcomeMessage(username):\n",
    "    Window = tk.Toplevel(root)\n",
    "    window.tiitle(\"Admin box\")\n",
    "    window.geometry(\"500x200\")\n",
    "\n",
    "label_1=tk.Label(window,text=f\"Welcome {username}\\n\")\n",
    "label_1.pack()\n",
    "label_2=tk.Label(window,text=\"This is python gui with TKinter\")\n",
    "label_2.pack()\n",
    "\n",
    "root.mainloop()\n",
    "\n",
    "def submit():\n",
    "    username=username_entry.get()\n",
    "    password=password_entry.get()\n",
    "\n",
    "if username==\"Mary\" and pasword ==\"Cos102\":\n",
    "    welcomeMessage(username)\n",
    "else:\n",
    "    messagebox.showerror(\"Login\",\"Invalid username or password\")"
   ]
  },
  {
   "cell_type": "code",
   "execution_count": null,
   "id": "42f074b6-647c-4f4d-85d3-c325919c7822",
   "metadata": {},
   "outputs": [],
   "source": []
  }
 ],
 "metadata": {
  "kernelspec": {
   "display_name": "Python [conda env:base] *",
   "language": "python",
   "name": "conda-base-py"
  },
  "language_info": {
   "codemirror_mode": {
    "name": "ipython",
    "version": 3
   },
   "file_extension": ".py",
   "mimetype": "text/x-python",
   "name": "python",
   "nbconvert_exporter": "python",
   "pygments_lexer": "ipython3",
   "version": "3.12.7"
  }
 },
 "nbformat": 4,
 "nbformat_minor": 5
}
