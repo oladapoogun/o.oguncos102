{
 "cells": [
  {
   "cell_type": "code",
   "execution_count": null,
   "id": "d5421291-4614-42e0-b0e5-457af20de6e2",
   "metadata": {},
   "outputs": [],
   "source": [
    "import pandas as pd\n",
    "\n",
    "# Load the datasets\n",
    "apps = pd.read_csv('path_to_downloaded/Top_Apps_in_Google_Play.csv')\n",
    "crypto = pd.read_csv('path_to_downloaded/Cryptocurrency_Predict_AI_V3.csv')\n",
    "languages = pd.read_csv('path_to_downloaded/Programming_Languages_Trend_Over_Time.csv')\n",
    "\n",
    "# Display the first 7 rows of each dataset\n",
    "print(\"Top Apps in Google Play - First 7 Rows\")\n",
    "print(apps.head(7))\n",
    "print(\"\\nCryptocurrency Predict AI V3 - First 7 Rows\")\n",
    "print(crypto.head(7))\n",
    "print(\"\\nProgramming Languages Trend - First 7 Rows\")\n",
    "print(languages.head(7))\n",
    "\n",
    "# Select the first 3 columns of each dataset\n",
    "print(\"Top Apps - First 3 Columns\")\n",
    "print(apps.iloc[:, :3].head())\n",
    "print(\"\\nCryptocurrency - First 3 Columns\")\n",
    "print(crypto.iloc[:, :3].head())\n",
    "print(\"\\nLanguages Trend - First 3 Columns\")\n",
    "print(languages.iloc[:, :3].head())\n",
    "\n",
    "# Display only one row and header of each dataset\n",
    "print(\"Top Apps - One Row with Header\")\n",
    "print(apps.head(1))\n",
    "print(\"\\nCryptocurrency - One Row with Header\")\n",
    "print(crypto.head(1))\n",
    "print(\"\\nLanguages Trend - One Row with Header\")\n",
    "print(languages.head(1))\n"
   ]
  }
 ],
 "metadata": {
  "kernelspec": {
   "display_name": "Python [conda env:base] *",
   "language": "python",
   "name": "conda-base-py"
  },
  "language_info": {
   "codemirror_mode": {
    "name": "ipython",
    "version": 3
   },
   "file_extension": ".py",
   "mimetype": "text/x-python",
   "name": "python",
   "nbconvert_exporter": "python",
   "pygments_lexer": "ipython3",
   "version": "3.12.3"
  }
 },
 "nbformat": 4,
 "nbformat_minor": 5
}
