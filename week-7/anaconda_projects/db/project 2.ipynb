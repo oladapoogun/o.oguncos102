{
 "cells": [
  {
   "cell_type": "code",
   "execution_count": 9,
   "id": "d5421291-4614-42e0-b0e5-457af20de6e2",
   "metadata": {},
   "outputs": [
    {
     "name": "stdout",
     "output_type": "stream",
     "text": [
      "Data successfully saved to cadbury_market.csv\n"
     ]
    }
   ],
   "source": [
    "import pandas as pd\n",
    "\n",
    "# Create a list of dictionaries for each segment and their respective details\n",
    "data = [\n",
    "    {\n",
    "        'Segment': 'Refreshment Beverages',\n",
    "        'Export': 'No',\n",
    "        'Brands': 'CADBURY BOURNVITA, CADBURY 3-in-1 HOT CHOCOLATE'\n",
    "    },\n",
    "    {\n",
    "        'Segment': 'Confectionery',\n",
    "        'Export': 'No',\n",
    "        'Brands': 'TOMTOM CLASSIC, TOMTOM STRAWBERRY, BUTTERMINT'\n",
    "    },\n",
    "    {\n",
    "        'Segment': 'Intermediate Cocoa Products',\n",
    "        'Export': 'Yes',\n",
    "        'Brands': 'COCOA POWDER, COCOA BUTTER, COCOA LIQUOR, COCOA CAKE'\n",
    "    }\n",
    "]\n",
    "\n",
    "# Create the DataFrame\n",
    "df = pd.DataFrame(data)\n",
    "\n",
    "# Save the DataFrame to a CSV file\n",
    "df.to_csv('cadbury_market.csv', index=False)\n",
    "\n",
    "# Optional: print confirmation\n",
    "print(\"Data successfully saved to cadbury_market.csv\")\n"
   ]
  },
  {
   "cell_type": "code",
   "execution_count": null,
   "id": "45ca983a-0ff4-498a-84d3-70bf46a9c13c",
   "metadata": {},
   "outputs": [],
   "source": []
  }
 ],
 "metadata": {
  "kernelspec": {
   "display_name": "Python [conda env:base] *",
   "language": "python",
   "name": "conda-base-py"
  },
  "language_info": {
   "codemirror_mode": {
    "name": "ipython",
    "version": 3
   },
   "file_extension": ".py",
   "mimetype": "text/x-python",
   "name": "python",
   "nbconvert_exporter": "python",
   "pygments_lexer": "ipython3",
   "version": "3.12.3"
  }
 },
 "nbformat": 4,
 "nbformat_minor": 5
}
